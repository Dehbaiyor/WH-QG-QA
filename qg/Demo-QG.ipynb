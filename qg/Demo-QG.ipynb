{
 "cells": [
  {
   "cell_type": "markdown",
   "id": "e399f204",
   "metadata": {},
   "source": [
    "- pip install jupyter\n",
    "- python -m pip install spacy == 2.3.5\n",
    "- pip install dill\n",
    "- pip install pandas\n",
    "- pip install nltk\n",
    "- pip install transformers[sentencepiece]\n",
    "- python -m spacy download en_core_web_sm, en_core_web_md, en_core_web_lg\n",
    "- pip install torch\n",
    "- pip install sklearn\n",
    "- pip install lemminflect==0.2.1\n",
    "- pip install -U sentence-transformers\n",
    "- pip install fuzzywuzzy\n",
    "- pip install python-Levenshtein"
   ]
  },
  {
   "cell_type": "markdown",
   "id": "237bb676",
   "metadata": {},
   "source": [
    "https://github.com/mmxgn/spacy-clausie\n",
    "- pip install stanza"
   ]
  },
  {
   "cell_type": "markdown",
   "id": "983b4a24",
   "metadata": {},
   "source": [
    "!git clone https://github.com/huggingface/neuralcoref.git\n",
    "!pip install -U spacy\n",
    "!python -m spacy download en\n",
    "\n",
    "cd neuralcoref\n",
    "\n",
    "!pip install -r requirements.txt\n",
    "!pip install -e ."
   ]
  },
  {
   "cell_type": "markdown",
   "id": "66ff5408",
   "metadata": {},
   "source": [
    "!pip freeze >> requirements.txt"
   ]
  },
  {
   "cell_type": "markdown",
   "id": "488dabe3",
   "metadata": {},
   "source": [
    "import time\n",
    "start = time.time()"
   ]
  },
  {
   "cell_type": "code",
   "execution_count": 1,
   "id": "e21017ba",
   "metadata": {
    "scrolled": false
   },
   "outputs": [
    {
     "name": "stdout",
     "output_type": "stream",
     "text": [
      "Wall time: 45.9 s\n"
     ]
    }
   ],
   "source": [
    "%%time\n",
    "from whqg.whqg_main import *"
   ]
  },
  {
   "cell_type": "code",
   "execution_count": 2,
   "id": "fda291c1",
   "metadata": {
    "scrolled": true
   },
   "outputs": [
    {
     "name": "stdout",
     "output_type": "stream",
     "text": [
      "Wall time: 3min 54s\n"
     ]
    }
   ],
   "source": [
    "%%time\n",
    "generated_questions = get_wh_questions(\"data/a1.txt\", 100)"
   ]
  },
  {
   "cell_type": "code",
   "execution_count": 3,
   "id": "1d237c72",
   "metadata": {},
   "outputs": [
    {
     "data": {
      "text/plain": [
       "100"
      ]
     },
     "execution_count": 3,
     "metadata": {},
     "output_type": "execute_result"
    }
   ],
   "source": [
    "len(generated_questions)"
   ]
  },
  {
   "cell_type": "code",
   "execution_count": 4,
   "id": "82caa327",
   "metadata": {
    "scrolled": false
   },
   "outputs": [
    {
     "name": "stdout",
     "output_type": "stream",
     "text": [
      "Where regarded  most commonly as the period from the Third Dynasty through to the Sixth Dynasty (2686–2181 BC)  ?\n",
      "During what era did the king of Egypt become a living god?\n",
      "During what dynasty were pyramid complexes fewer devoted to construction than during the 4th?\n",
      "What is the period in the third millennium also known as the 'Age of the Pyramids'?\n",
      "What is  the revolutionary change in architecture accompanied by the effects on Egyptian society and economy of large-scale building projects ?\n",
      "During what dynasty did the power of pharaoh gradually wane?\n",
      "What is the period from the Third Dynasty through to the Sixth Dynasty?\n",
      "What is the name of the period that was not recognized by Ancient Egyptians?\n",
      "What is the name of the third period of civilization in Egypt?\n",
      "What is the name of the country that was influenced by Egypt?\n",
      "What been proposed  to be the work of Khafra and Khufu himself ?\n",
      "The last king of the Early Dynastic Period was related to the first two kings of what kingdom?\n",
      "Who been deposed  by Neferefre's brother Nyuserre Ini (2445–2421 BC)  ?\n",
      "What been built  by Djedefra as a monument to his father Khufu  ?\n",
      "What established  a formal artistic canon that would define Egyptian art for more than 3,000 years, while remaining flexible enough to allow for subtle variation and innovation ?\n",
      "What created  the earliest portraits of individuals and the first lifesize statues in wood, copper, and stone ?\n",
      "What was  the 22nd century BC drought in the region that resulted in a drastic drop in precipitation ?\n",
      "What reached  a zenith under the Fourth Dynasty (2613–2494 BC), which began with Sneferu (2613–2589 BC) ?\n",
      "What was  the subject of very large works, including especially the canal to Lake Moeris around 2300 BC, which was likely also the source of water to the Giza pyramid complex centuries earlier ?\n",
      "Who was the earliest ruler to have the pyramid texts inscribed in his pyramid?\n",
      "Who perfected  the art of pyramid building and the pyramids of Giza ?\n",
      "What was the name of the king of the kingdom?\n",
      "What was  the first to have an above-ground burial chamber ?\n",
      "What built  the second pyramid ?\n",
      "Where is  the period in the third millennium (c. 2686-2181 BC) also known as the 'Age of the Pyramids' or 'Age of the Pyramid Builders' as it includes the great 4th Dynasty when King Sneferu perfected the art of pyramid building and the pyramids of Giza ?\n",
      "What inspired  the ancient Egyptians ?\n",
      "Where commissioned  the building of not one ?\n",
      "Where referred  For this reason frequently to as \"the Age of the Pyramids  ?\n",
      "What believing  that he ensured the annual flooding of the Nile that was necessary for their crops ?\n",
      "What was  Djoser ?\n",
      "What was reached  However at Saqqara  ?\n",
      "What was initiated  at Saqqara under his reign  ?\n",
      "What was followed  by decades of famine and strife  ?\n",
      "What began  with Userkaf (2494–2487 BC)  ?\n",
      "Who was succeeded  by his son Sahure (2487–2475 BC) who commanded an expedition to Punt  ?\n",
      "What was coined  by eighteenth-century historians and the distinction between the Old Kingdom and the Early Dynastic Period  ?\n",
      "What were  Menkauhor Kaiu (2421–2414 BC), Djedkare Isesi (2414–2375 BC) and Unas (2375–2345), the earliest ruler to have the pyramid texts inscribed in his pyramid ?\n",
      "What remained  at Ineb-Hedg, the Ancient Egyptian name for Memphis  ?\n",
      "What was moved  Under King Djoser, the first king of the Third Dynasty of the Old Kingdom to Memphis, where Djoser established his court  ?\n",
      "Who succeeded  by Neferirkare Kakai (2475–2455 BC) who was Sahure's son  ?\n",
      "What have quarrelled  After Khufu's death  ?\n",
      "What is  one which would have been recognized by Ancient Egyptians ?\n",
      "What learned  to express their culture's worldview, creating for the first time images and forms that endured for generations ?\n",
      "What reaching  the Nile ?\n",
      "What was  one of the most dynamic periods in the development of Egyptian art ?\n",
      "What had  two principal functions: to ensure an ordered existence and to defeat death by preserving life into the next world ?\n",
      "What were  king Menkaure (2532–2504 BC), who built the smallest pyramid in Giza, Shepseskaf (2504–2498 BC) and, perhaps, Djedefptah (2498–2496 BC) ?\n",
      "Where were constructed  under the kings Khufu, Khafre, and Menkaure  ?\n",
      "Where was succeeded  by his son, Khufu (2589–2566 BC), who built the Great Pyramid of Giza  ?\n",
      "Where attained  its first continuous peak of civilization – the first of three so-called \"Kingdom\" periods (followed by the Middle Kingdom and New Kingdom) which mark the high points of civilization in the lower Nile Valley ?\n",
      "What is the Red Pyramid?\n",
      "What is the Bent Pyramid?\n",
      "What is The Great Pyramids'?\n",
      "What is the Step Pyramid?\n",
      "When did the Great Pyramid of Giza happen?\n",
      "When did the Early Dynastic Period happen?\n",
      "When did the Sixth Dynasty happen?\n",
      "When did the Fourth Dynasty happen?\n",
      "Where is the Kingdom of Punt?\n",
      "Where is The Old Kingdom?\n",
      "Where is the Red Sea?\n",
      "Where is the Middle Kingdom?\n",
      "Where is Old Kingdom?\n",
      "Where is Lake Moeris?\n",
      "Where is New Kingdom?\n",
      "Where is Nile Valley?\n",
      "Where is Egypt?\n",
      "Where is Snefru?\n",
      "Where is Memphis?\n",
      "Where is Nile?\n",
      "Where is Canaan?\n",
      "Where is Abusir?\n",
      "Where is Sphinx?\n",
      "Where is Dahshur?\n",
      "Where is Meidum?\n",
      "Where is Somalia?\n",
      "Where is Khafra?\n",
      "Where is Giza?\n",
      "Where is Shepseskaf?\n",
      "Where is Sneferu?\n",
      "Where is Lebanon?\n",
      "Where is Nubia?\n",
      "Where is Sudan?\n",
      "Where is Punt?\n",
      "Who is Userkaf?\n",
      "Who is Ankhtifi?\n",
      "Who is Djedefptah?\n",
      "Who is Khafre?\n",
      "What is Djedefra?\n",
      "Who is Khufu?\n",
      "Who is Neferefre?\n",
      "Who is Neferirkare?\n",
      "What is BC?\n",
      "Who is Shepseskare?\n",
      "Who is Menkaure?\n",
      "Who is Djoser?\n",
      "Who is Sahure?\n",
      "What is Ineb-Hedg?\n",
      "What is Saqqara?\n",
      "Who is North Dahshur?\n"
     ]
    }
   ],
   "source": [
    "for question in generated_questions:\n",
    "    print(question)"
   ]
  },
  {
   "cell_type": "code",
   "execution_count": null,
   "id": "4e3cdb24",
   "metadata": {},
   "outputs": [],
   "source": []
  },
  {
   "cell_type": "code",
   "execution_count": null,
   "id": "b4ebb604",
   "metadata": {},
   "outputs": [],
   "source": [
    "with open(\"a1_self_gen_gsts.dill\", \"wb\") as dill_file:\n",
    "    pickle.dump(generated_questions, dill_file)"
   ]
  },
  {
   "cell_type": "code",
   "execution_count": null,
   "id": "bf86b670",
   "metadata": {},
   "outputs": [],
   "source": []
  },
  {
   "cell_type": "markdown",
   "id": "02daa53d",
   "metadata": {},
   "source": [
    "with open(\"../QA/questio-ns2\", \"wb\") as dill_file:\n",
    "    pickle.dump(generated_questions, dill_file)"
   ]
  },
  {
   "cell_type": "markdown",
   "id": "81ac5832",
   "metadata": {},
   "source": [
    "f = open(\"a1.txt\", encoding = \"utf-8\", mode = \"r\")\n",
    "txt = f.read()\n",
    "txt = txt[txt.find(\"\\n\\n\\n\")+3:txt.find(\"References\")]"
   ]
  },
  {
   "cell_type": "markdown",
   "id": "4f329133",
   "metadata": {},
   "source": [
    "doc = nlp(txt)\n",
    "ents = dict()\n",
    "for ent in doc.ents:\n",
    "    ents[ent.text] = ent.label"
   ]
  },
  {
   "cell_type": "markdown",
   "id": "3f7085b6",
   "metadata": {},
   "source": [
    "ents"
   ]
  },
  {
   "cell_type": "markdown",
   "id": "10f8ab85",
   "metadata": {},
   "source": [
    "contexts = []\n",
    "questions = []\n",
    "answers = []\n",
    "\n",
    "def generate(sentences, ents):\n",
    "    nlp3 = spacy.load('en_core_web_lg')\n",
    "    claucy.add_to_pipe(nlp3)\n",
    "    i = 0\n",
    "    for sentence in sentences:\n",
    "        doc = nlp3(sentence) \n",
    "        breakdown = doc._.clauses\n",
    "        if len(breakdown) == 0:\n",
    "            continue\n",
    "        if (i != 0 and i != len(sentences) - 1):\n",
    "            context = sentences[i - 1] + sentences[i] + sentences[i + 1]\n",
    "        elif (i == 0):\n",
    "             context = sentences[i] + sentences[i+1] + sentences[i+2]\n",
    "        else:\n",
    "             context = sentences[i-2] + sentences[i-1] + sentences[i]\n",
    "            \n",
    "        i+=1\n",
    "        ie_data = pd.DataFrame(breakdown)[0].apply(string).str.split(\"~\", expand = True).rename(columns={0:'type',\n",
    "                                                                                              1:'subject',\n",
    "                                                                                              2:'verb',\n",
    "                                                                                              3:'indirect_obj',\n",
    "                                                                                              4:'direct_obj',\n",
    "                                                                                              5:'complement',\n",
    "                                                                                              6:'adverbials'})\n",
    "        ie_data = ie_data.replace(\"None\", \"\")\n",
    "\n",
    "        for row in ie_data.iterrows():\n",
    "            if \"NN\" not in return_tag(row[1][1]) or row[1][2] == \"\":\n",
    "                continue\n",
    "            if ents.get(row[1][1]) in [\"NORP\",\"PERSON\"]:\n",
    "                tag = \"Who \"\n",
    "            elif ents.get(row[1][1]) in [\"DATE\", \"TIME\"]:\n",
    "                tag = \"When \"       \n",
    "            else:\n",
    "                tag = \"What \"\n",
    "\n",
    "            end = row[1][4]\n",
    "            if end == \"\":\n",
    "                end = row[1][5]\n",
    "            if end == \"\":\n",
    "                end = row[1][6]\n",
    "            if end == \"\":\n",
    "                continue\n",
    "\n",
    "            q = tag + row[1][2] + \" \" + row[1][3] + \" \" + end + \" ?\"\n",
    "            keys = set(ents.keys())\n",
    "            #_, e, _, _ = get_ents(q)\n",
    "            for word in word_tokenize(q):\n",
    "                if word in keys:\n",
    "                    #q = paraphrase(q)\n",
    "                    questions.append(q)\n",
    "                    d = dict()\n",
    "                    d[\"text\"] = row[1][1]\n",
    "                    d[\"answer_start\"] = context.find(d[\"text\"])\n",
    "                    answers.append(d)\n",
    "                    contexts.append(str(context))\n",
    "                    break"
   ]
  },
  {
   "cell_type": "markdown",
   "id": "ce9bc354",
   "metadata": {},
   "source": [
    "generate(sent_tokenize(txt), ents)"
   ]
  },
  {
   "cell_type": "code",
   "execution_count": null,
   "id": "c5641d56",
   "metadata": {},
   "outputs": [],
   "source": [
    "len(contexts), len(questions), len(answers)"
   ]
  },
  {
   "cell_type": "markdown",
   "id": "349268df",
   "metadata": {},
   "source": [
    "for i in range(39):\n",
    "    print(\"Context: \", contexts[i])\n",
    "    print(\"Question: \", questions[i])\n",
    "    print(\"Answer: \", answers[i])\n",
    "    print()"
   ]
  },
  {
   "cell_type": "markdown",
   "id": "15ee8b52",
   "metadata": {},
   "source": [
    "from tqdm import tqdm"
   ]
  },
  {
   "cell_type": "markdown",
   "id": "93d2c152",
   "metadata": {},
   "source": [
    "import os\n",
    "for file in tqdm(os.listdir(\"../dataset\")):\n",
    "    if file.endswith(\".txt\"):\n",
    "        print(os.path.join(\"../dataset\", file))\n",
    "        f = open(os.path.join(\"../dataset\", file), encoding = \"utf-8\", mode = \"r\")\n",
    "        text = f.read()\n",
    "        sentences = sent_tokenize(text)\n",
    "        doc = nlp(txt)\n",
    "        entities = dict()\n",
    "        for ent in doc.ents:\n",
    "            entities[ent.text] = ent.label\n",
    "        generate(sentences, entities)"
   ]
  },
  {
   "cell_type": "markdown",
   "id": "16c0185b",
   "metadata": {},
   "source": [
    "len(contexts), len(questions), len(answers)"
   ]
  },
  {
   "cell_type": "markdown",
   "id": "fd49371f",
   "metadata": {},
   "source": [
    "with open(\"combined\", \"rb\") as dill_file:\n",
    "    c = pickle.load(dill_file)"
   ]
  },
  {
   "cell_type": "markdown",
   "id": "a665f658",
   "metadata": {},
   "source": [
    "cc = c[:10200]"
   ]
  },
  {
   "cell_type": "markdown",
   "id": "04cbac57",
   "metadata": {},
   "source": [
    "qq = c[10201:20401]"
   ]
  },
  {
   "cell_type": "markdown",
   "id": "8eb807e6",
   "metadata": {},
   "source": [
    "aa = c[20401:40600]"
   ]
  },
  {
   "cell_type": "markdown",
   "id": "3184c789",
   "metadata": {},
   "source": [
    "len(cc + contexts), len(questions + qq), len(answers+aa)"
   ]
  },
  {
   "cell_type": "markdown",
   "id": "ef023e7f",
   "metadata": {},
   "source": [
    "ccc = cc + contexts\n",
    "qqq = questions + qq\n",
    "aaa = aa + answers"
   ]
  },
  {
   "cell_type": "markdown",
   "id": "144eadde",
   "metadata": {},
   "source": [
    "len(ccc), len(qqq), len(aaa)"
   ]
  },
  {
   "cell_type": "markdown",
   "id": "b1b03e56",
   "metadata": {},
   "source": [
    "with open(\"sq_questions\", \"wb\") as dill_file:\n",
    "    pickle.dump(qqq, dill_file)\n",
    "    \n",
    "with open(\"sq_contexts\", \"wb\") as dill_file:\n",
    "    pickle.dump(ccc, dill_file)\n",
    "    \n",
    "with open(\"sq_answers\", \"wb\") as dill_file:\n",
    "    pickle.dump(aaa, dill_file)"
   ]
  },
  {
   "cell_type": "code",
   "execution_count": null,
   "id": "d2f18be6",
   "metadata": {},
   "outputs": [],
   "source": []
  },
  {
   "cell_type": "markdown",
   "id": "cb359501",
   "metadata": {},
   "source": [
    "from transformers import AutoTokenizer, AutoModelWithLMHead\n",
    "\n",
    "tokenizer = AutoTokenizer.from_pretrained(\"flexudy/t5-base-multi-sentence-doctor\")\n",
    "model = AutoModelWithLMHead.from_pretrained(\"flexudy/t5-base-multi-sentence-doctor\")\n"
   ]
  },
  {
   "cell_type": "markdown",
   "id": "84f4df64",
   "metadata": {},
   "source": [
    "input_text = \"repair_sentence: m a medical doct context: {That is my job I a}{or I save lives} </s>\"\n",
    "input_ids = tokenizer.encode(input_text, return_tensors=\"pt\")\n",
    "outputs = model.generate(input_ids, max_length=32, num_beams=1)\n",
    "sentence = tokenizer.decode(outputs[0], skip_special_tokens=True, clean_up_tokenization_spaces=True)"
   ]
  },
  {
   "cell_type": "markdown",
   "id": "8d461840",
   "metadata": {},
   "source": [
    "input_text = \"repair_sentence: What was  the first to gain some meaningful value using his observations made in 1832–1833 and South African astronomer Thomas Maclear's observations made in 1836–1837 ? context: {}{} </s>\"\n",
    "input_ids = tokenizer.encode(input_text, return_tensors=\"pt\")\n",
    "outputs = model.generate(input_ids, max_length=64, num_beams=1)\n",
    "sentence = tokenizer.decode(outputs[0], skip_special_tokens=True, clean_up_tokenization_spaces=True)"
   ]
  },
  {
   "cell_type": "markdown",
   "id": "0aa4e164",
   "metadata": {},
   "source": [
    "end = time.time()\n",
    "end - start"
   ]
  },
  {
   "cell_type": "markdown",
   "id": "e47bc803",
   "metadata": {},
   "source": [
    "{u'1': [u'CARDINAL', u'DATE', u'EVENT', u'FAC', u'GPE', u'LANGUAGE', u'LAW', u'LOC', u'MONEY', u'NORP', u'ORDINAL', u'ORG', u'PERCENT', u'PERSON', u'PRODUCT', u'QUANTITY', u'TIME', u'WORK_OF_ART']}"
   ]
  },
  {
   "cell_type": "markdown",
   "id": "4e62fde1",
   "metadata": {},
   "source": [
    "str(breakdown[0].type) + str(breakdown[0].subject) + str(breakdown[0].verb) + str(breakdown[0].indirect_object) \\\n",
    "+ str(breakdown[0].direct_object) + str(breakdown[0].complement) + \" \".join(breakdown[0].adverbials)"
   ]
  },
  {
   "cell_type": "markdown",
   "id": "05e4d30b",
   "metadata": {},
   "source": [
    "self.type, self.subject, self.verb, self.indirect_object, self.direct_object, self.complement,self.adverbials\n",
    "{'SV', 'SVA', 'SVC', 'SVO', 'SVOC'}"
   ]
  },
  {
   "cell_type": "code",
   "execution_count": null,
   "id": "183f5dd7",
   "metadata": {},
   "outputs": [],
   "source": []
  }
 ],
 "metadata": {
  "kernelspec": {
   "display_name": "Python 3",
   "language": "python",
   "name": "python3"
  },
  "language_info": {
   "codemirror_mode": {
    "name": "ipython",
    "version": 3
   },
   "file_extension": ".py",
   "mimetype": "text/x-python",
   "name": "python",
   "nbconvert_exporter": "python",
   "pygments_lexer": "ipython3",
   "version": "3.7.10"
  }
 },
 "nbformat": 4,
 "nbformat_minor": 5
}
