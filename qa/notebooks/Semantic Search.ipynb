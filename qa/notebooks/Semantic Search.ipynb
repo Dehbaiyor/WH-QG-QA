{
 "cells": [
  {
   "cell_type": "markdown",
   "id": "1c57ec5c",
   "metadata": {},
   "source": [
    "!pip install -U sentence-transformers"
   ]
  },
  {
   "cell_type": "code",
   "execution_count": 1,
   "id": "d337baaf",
   "metadata": {},
   "outputs": [],
   "source": [
    "from nltk import sent_tokenize\n",
    "from sentence_transformers import SentenceTransformer, util\n",
    "from sklearn.metrics.pairwise import cosine_similarity as sim\n",
    "import pandas as pd"
   ]
  },
  {
   "cell_type": "code",
   "execution_count": 2,
   "id": "4cccd945",
   "metadata": {},
   "outputs": [],
   "source": [
    "model_name = './nq-distilbert-base-v1'\n",
    "bi_encoder = SentenceTransformer(model_name, device = 'cpu')"
   ]
  },
  {
   "cell_type": "code",
   "execution_count": 3,
   "id": "37885ca8",
   "metadata": {},
   "outputs": [],
   "source": [
    "def get_wh_ans2(filepath, question):\n",
    "    f = open(filepath, encoding = \"utf-8\", mode = \"r\")\n",
    "    txt = f.read()\n",
    "    txt = txt[txt.find(\"\\n\\n\\n\")+3:txt.find(\"References\")]\n",
    "    sentences = enumerate(sent_tokenize(txt))\n",
    "    \n",
    "    sentences = enumerate(sent_tokenize(txt))\n",
    "    passages = [[str(index), sentence] for index, sentence in sentences]\n",
    "    passage_embedding = bi_encoder.encode(passages)\n",
    "\n",
    "    p = pd.DataFrame(passages)\n",
    "    p[2] = sim(passage_embedding, q_emb.reshape(1,-1))\n",
    "    p = p.sort_values(by = 2, ascending = False)\n",
    "    context_sentences = list(p[1].values)"
   ]
  },
  {
   "cell_type": "code",
   "execution_count": 4,
   "id": "42a536c9",
   "metadata": {},
   "outputs": [
    {
     "data": {
      "text/plain": [
       "[['0',\n",
       "  \"The Old Kingdom is the period in the third millennium (c. 2686-2181 BC) also known as the 'Age of the Pyramids' or 'Age of the Pyramid Builders' as it includes the great 4th Dynasty when King Sneferu perfected the art of pyramid building and the pyramids of Giza were constructed under the kings Khufu, Khafre, and Menkaure.\"],\n",
       " ['1',\n",
       "  'Egypt attained its first continuous peak of civilization – the first of three so-called \"Kingdom\" periods (followed by the Middle Kingdom and New Kingdom) which mark the high points of civilization in the lower Nile Valley.'],\n",
       " ['2',\n",
       "  'The term itself was coined by eighteenth-century historians and the distinction between the Old Kingdom and the Early Dynastic Period is not one which would have been recognized by Ancient Egyptians.'],\n",
       " ['3',\n",
       "  \"Not only was the last king of the Early Dynastic Period related to the first two kings of the Old Kingdom, but the 'capital', the royal residence, remained at Ineb-Hedg, the Ancient Egyptian name for Memphis.\"],\n",
       " ['4',\n",
       "  'The basic justification for a separation between the two periods is the revolutionary change in architecture accompanied by the effects on Egyptian society and economy of large-scale building projects.'],\n",
       " ['5',\n",
       "  'The Old Kingdom is most commonly regarded as the period from the Third Dynasty through to the Sixth Dynasty (2686–2181 BC).'],\n",
       " ['6',\n",
       "  \"The 4th-6th Dynasties of Egypt, are scarce and historians regard the history of the era as literally 'written in stone' and largely architectural in that it is through the monuments and their inscriptions that scholars have been able to construct a history.\"],\n",
       " ['7',\n",
       "  'Egyptologists also include the Memphite Seventh and Eighth Dynasties in the Old Kingdom as a continuation of the administration centralized at Memphis.'],\n",
       " ['8',\n",
       "  'While the Old Kingdom was a period of internal security and prosperity, it was followed by a period of disunity and relative cultural decline referred to by Egyptologists as the First Intermediate Period.'],\n",
       " ['9',\n",
       "  'During the Old Kingdom, the king of Egypt (not called the Pharaoh until the New Kingdom) became a living god who ruled absolutely and could demand the services and wealth of his subjects.'],\n",
       " ['10',\n",
       "  'Under King Djoser, the first king of the Third Dynasty of the Old Kingdom, the royal capital of Egypt was moved to Memphis, where Djoser established his court.'],\n",
       " ['11', 'A new era of building was initiated at Saqqara under his reign.'],\n",
       " ['12',\n",
       "  \"King Djoser's architect, Imhotep is credited with the development of building with stone and with the conception of the new architectural form—the Step Pyramid.\"],\n",
       " ['13',\n",
       "  \"The Old Kingdom is perhaps best known for the large number of pyramids constructed at this time as burial places for Egypt's kings.\"],\n",
       " ['14',\n",
       "  'For this reason, the Old Kingdom is frequently referred to as \"the Age of the Pyramids.\"'],\n",
       " ['15',\n",
       "  \"Third Dynasty\\n\\nThe first Pharaoh of the Old Kingdom was Djoser (sometime between 2691 and 2625 BC) of the third dynasty, who ordered the construction of a pyramid (the Step Pyramid) in Memphis' necropolis, Saqqara.\"],\n",
       " ['16',\n",
       "  'An important person during the reign of Djoser was his vizier, Imhotep.'],\n",
       " ['17',\n",
       "  'It was in this era that formerly independent ancient Egyptian states became known as nomes, under the rule of the Pharaoh.'],\n",
       " ['18',\n",
       "  'The former rulers were forced to assume the role of governors or otherwise work in tax collection.'],\n",
       " ['19',\n",
       "  'Egyptians in this era worshipped their Pharaoh as a god, believing that he ensured the annual flooding of the Nile that was necessary for their crops.'],\n",
       " ['20',\n",
       "  'Egyptian views on the nature of time during this period held that the universe worked in cycles, and the Pharaoh on earth worked to ensure the stability of those cycles.'],\n",
       " ['21', 'They also perceived themselves as a specially selected people.'],\n",
       " ['22',\n",
       "  'Fourth Dynasty\\n\\nThe Old Kingdom and its royal power reached a zenith under the Fourth Dynasty (2613–2494 BC), which began with Sneferu (2613–2589 BC).'],\n",
       " ['23', 'After Djoser, Pharaoh Snefru was the next great pyramid builder.'],\n",
       " ['24', 'Snefru commissioned the building of not one, but three pyramids.'],\n",
       " ['25',\n",
       "  'The first is called the Meidum pyramid, named for its location in Egypt.'],\n",
       " ['26',\n",
       "  'Snefru abandoned it after the outside casing fell off of the pyramid.'],\n",
       " ['27',\n",
       "  'The Meidum pyramid was the first to have an above-ground burial chamber.'],\n",
       " ['28',\n",
       "  'Using more stones than any other Pharaoh, he built the three pyramids: a now collapsed pyramid in Meidum, the Bent Pyramid at Dahshur, and the Red Pyramid, at North Dahshur.'],\n",
       " ['29',\n",
       "  \"However, the full development of the pyramid style of building was reached not at Saqqara, but during the building of 'The Great Pyramids' at Giza.\"],\n",
       " ['30',\n",
       "  'Sneferu was succeeded by his son, Khufu (2589–2566 BC), who built the Great Pyramid of Giza.'],\n",
       " ['31',\n",
       "  \"After Khufu's death, his sons Djedefra (2566–2558 BC) and Khafra (2558–2532 BC) may have quarrelled.\"],\n",
       " ['32',\n",
       "  'The latter built the second pyramid and (in traditional thinking) the Sphinx in Giza.'],\n",
       " ['33',\n",
       "  'Recent reexamination of evidence has led Egyptologist Vassil Dobrev to propose that the Sphinx had been built by Djedefra as a monument to his father Khufu.'],\n",
       " ['34',\n",
       "  'Alternatively, the Sphinx has been proposed to be the work of Khafra and Khufu himself.'],\n",
       " ['35',\n",
       "  'There were military expeditions into Canaan and Nubia, with Egyptian influence reaching up the Nile into what is today the Sudan.'],\n",
       " ['36',\n",
       "  'The later kings of the Fourth Dynasty were king Menkaure (2532–2504 BC), who built the smallest pyramid in Giza, Shepseskaf (2504–2498 BC) and, perhaps, Djedefptah (2498–2496 BC).'],\n",
       " ['37',\n",
       "  'Fifth Dynasty\\n\\nThe Fifth Dynasty (2494–2345 BC) began with Userkaf (2494–2487 BC) and was marked by the growing importance of the cult of sun god Ra.'],\n",
       " ['38',\n",
       "  'Consequently, fewer efforts were devoted to the construction of pyramid complexes than during the 4th dynasty and more to the construction of sun temples in Abusir.'],\n",
       " ['39',\n",
       "  'Userkaf was succeeded by his son Sahure (2487–2475 BC) who commanded an expedition to Punt.'],\n",
       " ['40',\n",
       "  \"Sahure was in turn succeeded by Neferirkare Kakai (2475–2455 BC) who was Sahure's son.\"],\n",
       " ['41', 'Neferirkare introduced the prenomen in the royal titulary.'],\n",
       " ['42',\n",
       "  'He was followed by two short-lived kings, his son Neferefre (2455–2453 BC) and Shepseskare, the latter of uncertain parentage.'],\n",
       " ['43',\n",
       "  \"Shepseskare may have been deposed by Neferefre's brother Nyuserre Ini (2445–2421 BC), a long lived pharaoh who built extensively in Abusir and re-started royal activity in Giza.\"],\n",
       " ['44',\n",
       "  'The last Pharaohs of the dynasty were Menkauhor Kaiu (2421–2414 BC), Djedkare Isesi (2414–2375 BC) and Unas (2375–2345), the earliest ruler to have the pyramid texts inscribed in his pyramid.'],\n",
       " ['45',\n",
       "  \"Egypt's expanding interests in trade goods such as ebony, incense such as myrrh and frankincense, gold, copper and other useful metals inspired the ancient Egyptians to build suitable ships for navigation of the open sea.\"],\n",
       " ['46',\n",
       "  'They traded with Lebanon for cedar and travelled the length of the Red Sea to the Kingdom of Punt—possibly modern day Somalia—for ebony, ivory and aromatic resins.'],\n",
       " ['47',\n",
       "  'Ship builders of that era did not use pegs (treenails) or metal fasteners, but relied on rope to keep their ships assembled.'],\n",
       " ['48', 'Planks and the superstructure were tightly tied and bound together.'],\n",
       " ['49',\n",
       "  'Sixth Dynasty\\nDuring the sixth dynasty (2345–2181 BC) the power of pharaoh gradually weakened in favor of powerful nomarchs (regional governors).'],\n",
       " ['50',\n",
       "  'These no longer belonged to the royal family and their charge became hereditary, thus creating local dynasties largely independent from the central authority of the Pharaoh.'],\n",
       " ['51',\n",
       "  'However, Nile flood control was still the subject of very large works, including especially the canal to Lake Moeris around 2300 BC, which was likely also the source of water to the Giza pyramid complex centuries earlier.'],\n",
       " ['52',\n",
       "  'Internal disorders set in during the incredibly long reign of Pepi II (2278–2184 BC) towards the end of the dynasty.'],\n",
       " ['53',\n",
       "  'His death, certainly well past that of his intended heirs, might have created succession struggles.'],\n",
       " ['54',\n",
       "  \"The country slipped into civil wars mere decades after the close of Pepi II's reign.\"],\n",
       " ['55',\n",
       "  'The final blow was the 22nd century BC drought in the region that resulted in a drastic drop in precipitation.'],\n",
       " ['56',\n",
       "  'For at least some years between 2200 and 2150 BC, this prevented the normal flooding of the Nile.'],\n",
       " ['57',\n",
       "  'Whatever its cause, the collapse of the Old Kingdom was followed by decades of famine and strife.'],\n",
       " ['58',\n",
       "  'An important inscription on the tomb of Ankhtifi, a nomarch during the early First Intermediate Period, describes the pitiful state of the country when famine stalked the land.'],\n",
       " ['59', \"Culture\\nEgypt's Old Kingdom (Dynasties 3–6, ca.\"],\n",
       " ['60',\n",
       "  '2649–2150 BC) was one of the most dynamic periods in the development of Egyptian art.'],\n",
       " ['61',\n",
       "  \"During this period, artists learned to express their culture's worldview, creating for the first time images and forms that endured for generations.\"],\n",
       " ['62',\n",
       "  'Architects and masons mastered the techniques necessary to build monumental structures in stone.'],\n",
       " ['63',\n",
       "  'Sculptors created the earliest portraits of individuals and the first lifesize statues in wood, copper, and stone.'],\n",
       " ['64',\n",
       "  'They perfected the art of carving intricate relief decoration and, through keen observation of the natural world, produced detailed images of animals, plants, and even landscapes, recording the essential elements of their world for eternity in scenes painted and carved on the walls of temples and tombs.'],\n",
       " ['65',\n",
       "  'These images and structures had two principal functions: to ensure an ordered existence and to defeat death by preserving life into the next world.'],\n",
       " ['66',\n",
       "  'To these ends, over a period of time, Egyptian artists adopted a limited repertoire of standard types and established a formal artistic \\nthat would define Egyptian art for more than 3,000 years, while remaining flexible enough to allow for subtle variation and innovation.'],\n",
       " ['67',\n",
       "  'Although much of their artistic effort was centered on preserving life after death, Egyptians also surrounded themselves with objects to enhance their lives in this world, producing elegant jewelry, finely carved and inlaid furniture, and cosmetic vessels and implements made from a wide range of materials.']]"
      ]
     },
     "execution_count": 4,
     "metadata": {},
     "output_type": "execute_result"
    }
   ],
   "source": [
    "sentences = enumerate(sent_tokenize(txt))\n",
    "passages = [[str(index), sentence] for index, sentence in sentences]\n",
    "passages"
   ]
  },
  {
   "cell_type": "code",
   "execution_count": 5,
   "id": "5c3ac404",
   "metadata": {},
   "outputs": [
    {
     "name": "stdout",
     "output_type": "stream",
     "text": [
      "Wall time: 3.34 s\n"
     ]
    }
   ],
   "source": [
    "%%time\n",
    "passage_embedding = bi_encoder.encode(passages)"
   ]
  },
  {
   "cell_type": "code",
   "execution_count": 6,
   "id": "82309d55",
   "metadata": {},
   "outputs": [],
   "source": [
    "question = \"What was  the subject of very large works, including especially the canal to Lake Moeris around 2300 BC, which was likely also the source of water to the Giza pyramid complex centuries earlier ?\"\n",
    "#search(question, passage_embedding)"
   ]
  },
  {
   "cell_type": "code",
   "execution_count": 7,
   "id": "bbe22e52",
   "metadata": {},
   "outputs": [
    {
     "data": {
      "text/plain": [
       "((768,), (68, 768))"
      ]
     },
     "execution_count": 7,
     "metadata": {},
     "output_type": "execute_result"
    }
   ],
   "source": [
    "bi_encoder.encode(question).shape, passage_embedding.shape"
   ]
  },
  {
   "cell_type": "code",
   "execution_count": 8,
   "id": "2043d845",
   "metadata": {},
   "outputs": [],
   "source": [
    "from sklearn.metrics.pairwise import cosine_similarity as sim"
   ]
  },
  {
   "cell_type": "code",
   "execution_count": 9,
   "id": "ec1e0e58",
   "metadata": {},
   "outputs": [],
   "source": [
    "q_emb  = bi_encoder.encode(question)\n",
    "import pandas as pd\n",
    "p = pd.DataFrame(passages)\n",
    "p.head()"
   ]
  },
  {
   "cell_type": "code",
   "execution_count": 10,
   "id": "548fa4d8",
   "metadata": {},
   "outputs": [
    {
     "data": {
      "text/html": [
       "<div>\n",
       "<style scoped>\n",
       "    .dataframe tbody tr th:only-of-type {\n",
       "        vertical-align: middle;\n",
       "    }\n",
       "\n",
       "    .dataframe tbody tr th {\n",
       "        vertical-align: top;\n",
       "    }\n",
       "\n",
       "    .dataframe thead th {\n",
       "        text-align: right;\n",
       "    }\n",
       "</style>\n",
       "<table border=\"1\" class=\"dataframe\">\n",
       "  <thead>\n",
       "    <tr style=\"text-align: right;\">\n",
       "      <th></th>\n",
       "      <th>0</th>\n",
       "      <th>1</th>\n",
       "    </tr>\n",
       "  </thead>\n",
       "  <tbody>\n",
       "    <tr>\n",
       "      <th>0</th>\n",
       "      <td>0</td>\n",
       "      <td>The Old Kingdom is the period in the third mil...</td>\n",
       "    </tr>\n",
       "    <tr>\n",
       "      <th>1</th>\n",
       "      <td>1</td>\n",
       "      <td>Egypt attained its first continuous peak of ci...</td>\n",
       "    </tr>\n",
       "    <tr>\n",
       "      <th>2</th>\n",
       "      <td>2</td>\n",
       "      <td>The term itself was coined by eighteenth-centu...</td>\n",
       "    </tr>\n",
       "    <tr>\n",
       "      <th>3</th>\n",
       "      <td>3</td>\n",
       "      <td>Not only was the last king of the Early Dynast...</td>\n",
       "    </tr>\n",
       "    <tr>\n",
       "      <th>4</th>\n",
       "      <td>4</td>\n",
       "      <td>The basic justification for a separation betwe...</td>\n",
       "    </tr>\n",
       "  </tbody>\n",
       "</table>\n",
       "</div>"
      ],
      "text/plain": [
       "   0                                                  1\n",
       "0  0  The Old Kingdom is the period in the third mil...\n",
       "1  1  Egypt attained its first continuous peak of ci...\n",
       "2  2  The term itself was coined by eighteenth-centu...\n",
       "3  3  Not only was the last king of the Early Dynast...\n",
       "4  4  The basic justification for a separation betwe..."
      ]
     },
     "execution_count": 10,
     "metadata": {},
     "output_type": "execute_result"
    }
   ],
   "source": [
    "import pandas as pd\n",
    "p = pd.DataFrame(passages)\n",
    "p.head()\n",
    "p[2] = sim(passage_embedding, q_emb.reshape(1,-1))\n",
    "p.sort_values(by = 2, ascending = False)"
   ]
  },
  {
   "cell_type": "code",
   "execution_count": 11,
   "id": "1ccf522c",
   "metadata": {
    "scrolled": true
   },
   "outputs": [],
   "source": [
    "p[2] = sim(passage_embedding, q_emb.reshape(1,-1))\n",
    "p.sort_values(by = 2, ascending = False)"
   ]
  },
  {
   "cell_type": "code",
   "execution_count": 12,
   "id": "1d668129",
   "metadata": {},
   "outputs": [
    {
     "data": {
      "text/html": [
       "<div>\n",
       "<style scoped>\n",
       "    .dataframe tbody tr th:only-of-type {\n",
       "        vertical-align: middle;\n",
       "    }\n",
       "\n",
       "    .dataframe tbody tr th {\n",
       "        vertical-align: top;\n",
       "    }\n",
       "\n",
       "    .dataframe thead th {\n",
       "        text-align: right;\n",
       "    }\n",
       "</style>\n",
       "<table border=\"1\" class=\"dataframe\">\n",
       "  <thead>\n",
       "    <tr style=\"text-align: right;\">\n",
       "      <th></th>\n",
       "      <th>0</th>\n",
       "      <th>1</th>\n",
       "      <th>2</th>\n",
       "    </tr>\n",
       "  </thead>\n",
       "  <tbody>\n",
       "    <tr>\n",
       "      <th>51</th>\n",
       "      <td>51</td>\n",
       "      <td>However, Nile flood control was still the subj...</td>\n",
       "      <td>0.830908</td>\n",
       "    </tr>\n",
       "    <tr>\n",
       "      <th>60</th>\n",
       "      <td>60</td>\n",
       "      <td>2649–2150 BC) was one of the most dynamic peri...</td>\n",
       "      <td>0.400029</td>\n",
       "    </tr>\n",
       "    <tr>\n",
       "      <th>32</th>\n",
       "      <td>32</td>\n",
       "      <td>The latter built the second pyramid and (in tr...</td>\n",
       "      <td>0.330221</td>\n",
       "    </tr>\n",
       "    <tr>\n",
       "      <th>15</th>\n",
       "      <td>15</td>\n",
       "      <td>Third Dynasty\\n\\nThe first Pharaoh of the Old ...</td>\n",
       "      <td>0.325921</td>\n",
       "    </tr>\n",
       "    <tr>\n",
       "      <th>29</th>\n",
       "      <td>29</td>\n",
       "      <td>However, the full development of the pyramid s...</td>\n",
       "      <td>0.324732</td>\n",
       "    </tr>\n",
       "    <tr>\n",
       "      <th>...</th>\n",
       "      <td>...</td>\n",
       "      <td>...</td>\n",
       "      <td>...</td>\n",
       "    </tr>\n",
       "    <tr>\n",
       "      <th>48</th>\n",
       "      <td>48</td>\n",
       "      <td>Planks and the superstructure were tightly tie...</td>\n",
       "      <td>0.039507</td>\n",
       "    </tr>\n",
       "    <tr>\n",
       "      <th>21</th>\n",
       "      <td>21</td>\n",
       "      <td>They also perceived themselves as a specially ...</td>\n",
       "      <td>0.037992</td>\n",
       "    </tr>\n",
       "    <tr>\n",
       "      <th>26</th>\n",
       "      <td>26</td>\n",
       "      <td>Snefru abandoned it after the outside casing f...</td>\n",
       "      <td>0.033461</td>\n",
       "    </tr>\n",
       "    <tr>\n",
       "      <th>18</th>\n",
       "      <td>18</td>\n",
       "      <td>The former rulers were forced to assume the ro...</td>\n",
       "      <td>0.029428</td>\n",
       "    </tr>\n",
       "    <tr>\n",
       "      <th>65</th>\n",
       "      <td>65</td>\n",
       "      <td>These images and structures had two principal ...</td>\n",
       "      <td>-0.014053</td>\n",
       "    </tr>\n",
       "  </tbody>\n",
       "</table>\n",
       "<p>68 rows × 3 columns</p>\n",
       "</div>"
      ],
      "text/plain": [
       "     0                                                  1         2\n",
       "51  51  However, Nile flood control was still the subj...  0.830908\n",
       "60  60  2649–2150 BC) was one of the most dynamic peri...  0.400029\n",
       "32  32  The latter built the second pyramid and (in tr...  0.330221\n",
       "15  15  Third Dynasty\\n\\nThe first Pharaoh of the Old ...  0.325921\n",
       "29  29  However, the full development of the pyramid s...  0.324732\n",
       "..  ..                                                ...       ...\n",
       "48  48  Planks and the superstructure were tightly tie...  0.039507\n",
       "21  21  They also perceived themselves as a specially ...  0.037992\n",
       "26  26  Snefru abandoned it after the outside casing f...  0.033461\n",
       "18  18  The former rulers were forced to assume the ro...  0.029428\n",
       "65  65  These images and structures had two principal ... -0.014053\n",
       "\n",
       "[68 rows x 3 columns]"
      ]
     },
     "execution_count": 12,
     "metadata": {},
     "output_type": "execute_result"
    }
   ],
   "source": [
    "p.sort_values(by = 2, ascending = False)"
   ]
  },
  {
   "cell_type": "code",
   "execution_count": null,
   "id": "c1ed8e16",
   "metadata": {},
   "outputs": [],
   "source": []
  },
  {
   "cell_type": "code",
   "execution_count": null,
   "id": "2939bc3c",
   "metadata": {},
   "outputs": [],
   "source": []
  },
  {
   "cell_type": "code",
   "execution_count": null,
   "id": "174b8e2b",
   "metadata": {},
   "outputs": [],
   "source": []
  },
  {
   "cell_type": "code",
   "execution_count": null,
   "id": "b3e94959",
   "metadata": {},
   "outputs": [],
   "source": [
    "def search(query, wiki_embeddings, top_k = 10):\n",
    "    # Encode the query using the bi-encoder and find potentially relevant passages\n",
    "    question_embedding = bi_encoder.encode(query, convert_to_tensor=True)\n",
    "    hits = util.semantic_search(question_embedding, wiki_embeddings, top_k=top_k)\n",
    "    hits = hits[0]  # Get the hits for the first query\n",
    "\n",
    "    # Output of top-k hits\n",
    "    print(\"Input question:\", query)\n",
    "    for hit in hits:\n",
    "        print(\"\\t{:.3f}\\t{}\".format(hit['score'], passages[hit['corpus_id']]))"
   ]
  },
  {
   "cell_type": "code",
   "execution_count": null,
   "id": "cb6afce9",
   "metadata": {},
   "outputs": [],
   "source": [
    "question = \"What was  the subject of very large works, including especially the canal to Lake Moeris around 2300 BC, which was likely also the source of water to the Giza pyramid complex centuries earlier ?\"\n",
    "#search(question, passage_embedding)"
   ]
  },
  {
   "cell_type": "markdown",
   "id": "382654fd",
   "metadata": {},
   "source": [
    "## QG - Transformer"
   ]
  },
  {
   "cell_type": "code",
   "execution_count": null,
   "id": "1c4e4586",
   "metadata": {},
   "outputs": [],
   "source": [
    "from transformers import pipeline, AutoModelWithLMHead, AutoTokenizer"
   ]
  },
  {
   "cell_type": "code",
   "execution_count": null,
   "id": "4b0cff28",
   "metadata": {},
   "outputs": [],
   "source": [
    "tokenizer_t = AutoTokenizer.from_pretrained(\"mrm8488/t5-base-finetuned-question-generation-ap\")\n",
    "model_t = AutoModelWithLMHead.from_pretrained(\"mrm8488/t5-base-finetuned-question-generation-ap\")"
   ]
  },
  {
   "cell_type": "code",
   "execution_count": null,
   "id": "a7045ed8",
   "metadata": {},
   "outputs": [],
   "source": [
    "tokenizer_t.save_pretrained(\"here\")"
   ]
  },
  {
   "cell_type": "code",
   "execution_count": null,
   "id": "5b7d6fc4",
   "metadata": {},
   "outputs": [],
   "source": [
    "import spacy \n",
    "nlp = spacy.load(\"en_core_web_lg\")"
   ]
  },
  {
   "cell_type": "code",
   "execution_count": null,
   "id": "14c36d59",
   "metadata": {},
   "outputs": [],
   "source": [
    "def get_question(answer, context, max_length=64):\n",
    "  input_text = \"answer: %s  context: %s </s>\" % (answer, context)\n",
    "  features = tokenizer_t([input_text], return_tensors='pt')\n",
    "\n",
    "  output = loaded_model.generate(input_ids=features['input_ids'], \n",
    "               attention_mask=features['attention_mask'],\n",
    "               max_length=max_length)\n",
    "\n",
    "  return tokenizer_t.decode(output[0])\n",
    "\n",
    "def generate_questions_transformer(sentences):\n",
    "    qs = []\n",
    "    for i in range(len(sentences)):\n",
    "        doc = nlp(sentences[i])\n",
    "        for ent in doc.ents:\n",
    "                  if ent.label_ in ['LANGUAGE', 'NORP', 'ORG', 'PRODUCT', 'TIME', 'WORK_OF_ART']:\n",
    "                      context = sentences[i]\n",
    "                      qs.append([get_question(ent, context), ent])\n",
    "    r_qsts = set()\n",
    "    for qq in qs:\n",
    "        xx = qq[0]\n",
    "        r_qsts.add(xx[xx.find(\":\")+2:-4])\n",
    "    r_qsts = list(r_qsts)\n",
    "    return r_qsts"
   ]
  },
  {
   "cell_type": "code",
   "execution_count": null,
   "id": "bab60083",
   "metadata": {},
   "outputs": [],
   "source": [
    "from nltk import sent_tokenize\n",
    "f = open(\"a1.txt\", encoding = \"utf-8\", mode = \"r\")\n",
    "txt = f.read()\n",
    "txt = txt[txt.find(\"\\n\\n\\n\")+3:txt.find(\"References\")]\n",
    "sentences = sent_tokenize(txt)"
   ]
  },
  {
   "cell_type": "code",
   "execution_count": null,
   "id": "400a3e8b",
   "metadata": {},
   "outputs": [],
   "source": [
    "generate_questions_transformer(sentences)"
   ]
  },
  {
   "cell_type": "code",
   "execution_count": null,
   "id": "6d58169f",
   "metadata": {},
   "outputs": [],
   "source": [
    "model_t.save_pretrained('./finetuned_qg_model_SQuAD/')"
   ]
  },
  {
   "cell_type": "code",
   "execution_count": null,
   "id": "f0ce672c",
   "metadata": {},
   "outputs": [],
   "source": [
    "loaded_model = AutoModelWithLMHead.from_pretrained('./finetuned_qg_model_SQuAD/')"
   ]
  },
  {
   "cell_type": "code",
   "execution_count": null,
   "id": "61ee5281",
   "metadata": {},
   "outputs": [],
   "source": []
  },
  {
   "cell_type": "markdown",
   "id": "44dda213",
   "metadata": {},
   "source": [
    "# Paraphrase Mining"
   ]
  },
  {
   "cell_type": "code",
   "execution_count": null,
   "id": "9b7062e8",
   "metadata": {},
   "outputs": [],
   "source": [
    "model = SentenceTransformer('distilbert-base-nli-stsb-mean-tokens')\n",
    "\n",
    "# Single list of sentences - Possible tens of thousands of sentences\n",
    "sentences = ['The cat sits outside',\n",
    "             'A man is playing guitar',\n",
    "             'I love pasta',\n",
    "             'The new movie is awesome',\n",
    "             'The cat plays in the garden',\n",
    "             'A woman watches TV',\n",
    "             'The new movie is so great',\n",
    "             'Do you like pizza?']\n",
    "\n",
    "paraphrases = util.paraphrase_mining(model, sentences)\n",
    "\n",
    "for paraphrase in paraphrases[0:10]:\n",
    "    score, i, j = paraphrase\n",
    "    print(\"{} \\t\\t {} \\t\\t Score: {:.4f}\".format(sentences[i], sentences[j], score))"
   ]
  },
  {
   "cell_type": "markdown",
   "id": "4395ee02",
   "metadata": {},
   "source": [
    "# Paraphrase"
   ]
  },
  {
   "cell_type": "code",
   "execution_count": null,
   "id": "b5cb580a",
   "metadata": {},
   "outputs": [],
   "source": [
    "from transformers import AutoModelWithLMHead, AutoTokenizer\n",
    "\n",
    "tokenizer = AutoTokenizer.from_pretrained(\"mrm8488/t5-small-finetuned-quora-for-paraphrasing\")\n",
    "model = AutoModelWithLMHead.from_pretrained(\"mrm8488/t5-small-finetuned-quora-for-paraphrasing\")"
   ]
  },
  {
   "cell_type": "code",
   "execution_count": null,
   "id": "95c74404",
   "metadata": {},
   "outputs": [],
   "source": [
    "def paraphrase(text, max_length=128):\n",
    "\n",
    "  input_ids = tokenizer.encode(text, return_tensors=\"pt\", add_special_tokens=True)\n",
    "\n",
    "  generated_ids = model.generate(input_ids=input_ids, num_return_sequences=5, num_beams=5, max_length=max_length, no_repeat_ngram_size=2, repetition_penalty=3.5, length_penalty=1.0, early_stopping=True)\n",
    "\n",
    "  preds = [tokenizer.decode(g, skip_special_tokens=True, clean_up_tokenization_spaces=True) for g in generated_ids]\n",
    "\n",
    "  return preds\n",
    "\n",
    "\n",
    "preds = paraphrase(\"paraphrase: What was  the subject of very large works, including especially the canal to Lake Moerris\")\n",
    "for pred in preds:\n",
    "  print(pred)"
   ]
  },
  {
   "cell_type": "markdown",
   "id": "fcadc59d",
   "metadata": {},
   "source": [
    "### Another paraphrase"
   ]
  },
  {
   "cell_type": "code",
   "execution_count": null,
   "id": "cd07fd4a",
   "metadata": {},
   "outputs": [],
   "source": [
    "import torch\n",
    "from transformers import PegasusForConditionalGeneration, PegasusTokenizer\n",
    "model_name = 'tuner007/pegasus_paraphrase'\n",
    "torch_device = 'cpu' \n",
    "tokenizer_p = PegasusTokenizer.from_pretrained(model_name)\n",
    "model_p = PegasusForConditionalGeneration.from_pretrained(model_name).to(torch_device)"
   ]
  },
  {
   "cell_type": "code",
   "execution_count": null,
   "id": "4614530c",
   "metadata": {},
   "outputs": [],
   "source": [
    "def paraphrase(input_text,num_return_sequences = 1,num_beams = 5):\n",
    "  batch = tokenizer_p([input_text],truncation=True,padding='longest',max_length=60, return_tensors=\"pt\").to(torch_device)\n",
    "  translated = model_p.generate(**batch,max_length=60,num_beams=num_beams, num_return_sequences=num_return_sequences, temperature=1.5)\n",
    "  tgt_text = tokenizer_p.batch_decode(translated, skip_special_tokens=True)\n",
    "  return tgt_text[0]"
   ]
  },
  {
   "cell_type": "markdown",
   "id": "d5f2a91e",
   "metadata": {},
   "source": [
    "## Summarization"
   ]
  },
  {
   "cell_type": "code",
   "execution_count": null,
   "id": "6e707e8c",
   "metadata": {},
   "outputs": [],
   "source": [
    "from transformers import pipeline\n",
    "\n",
    "summarizer = pipeline(\"summarization\")"
   ]
  },
  {
   "cell_type": "code",
   "execution_count": null,
   "id": "662016be",
   "metadata": {},
   "outputs": [],
   "source": [
    "%%time\n",
    "def summarize(sentence):\n",
    "    length = len(sentence.split())\n",
    "    return summarizer(sentence, max_length = int(0.9 * length), min_length = int(0.7 * length), do_sample=False)[0]['summary_text']"
   ]
  },
  {
   "cell_type": "code",
   "execution_count": null,
   "id": "07556988",
   "metadata": {},
   "outputs": [],
   "source": [
    "para = []\n",
    "paragraphs = txt.split(\"\\n\\n\")\n",
    "for paragraph in paragraphs:\n",
    "    if len(paragraph) > 20:\n",
    "        para.append(summarize(paragraph))"
   ]
  },
  {
   "cell_type": "code",
   "execution_count": null,
   "id": "74a7a3f9",
   "metadata": {},
   "outputs": [],
   "source": [
    "import claucy\n",
    "import spacy\n",
    "\n",
    "def get_triples(sentences):\n",
    "    nlp3 = spacy.load('en_core_web_lg')\n",
    "    claucy.add_to_pipe(nlp3)\n",
    "    breakdown = []\n",
    "    for sentence in sentences:\n",
    "        doc = nlp3(sentence) \n",
    "        breakdown = breakdown + doc._.clauses\n",
    "    return breakdown"
   ]
  },
  {
   "cell_type": "code",
   "execution_count": null,
   "id": "9d49bc10",
   "metadata": {},
   "outputs": [],
   "source": [
    "get_triples(para)"
   ]
  },
  {
   "cell_type": "code",
   "execution_count": null,
   "id": "e669271a",
   "metadata": {},
   "outputs": [],
   "source": [
    "import pandas as pd"
   ]
  },
  {
   "cell_type": "code",
   "execution_count": null,
   "id": "0d6eec3a",
   "metadata": {},
   "outputs": [],
   "source": [
    "def string(l):\n",
    "    ad = \"\"\n",
    "    for i in l.adverbials:\n",
    "        ad = ad + str(i) + \" \"\n",
    "    a = str(l.type) + \"~\" +str(l.subject) + \"~\" + str(l.verb) + \"~\" + str(l.indirect_object)\\\n",
    "    + \"~\" + str(l.direct_object) \\\n",
    "    + \"~\" + str(l.complement) + \"~\" + ad\n",
    "    return a\n",
    "\n",
    "def return_questions_ie(sentences, ents, ents2, ents3):\n",
    "    breakdown = get_triples(sentences)\n",
    "    ie_data = pd.DataFrame(breakdown)[0].apply(string).str.split(\"~\", expand = True).rename(columns={0:'type',\n",
    "                                                                                          1:'subject',\n",
    "                                                                                          2:'verb',\n",
    "                                                                                          3:'indirect_obj',\n",
    "                                                                                          4:'direct_obj',\n",
    "                                                                                          5:'complement',\n",
    "                                                                                          6:'adverbials'})\n",
    "    ie_data = ie_data.replace(\"None\", \"\")\n",
    "\n",
    "    que = []\n",
    "    for row in ie_data.iterrows():\n",
    "        end = row[1][4]\n",
    "        if end == \"\":\n",
    "            end = row[1][5]\n",
    "        if end == \"\":\n",
    "            end = row[1][6]\n",
    "        if end == \"\":\n",
    "            continue\n",
    "        q = \"__________\"+ row[1][2] + \" \" + row[1][3] + \" \" + end + \" ?\"\n",
    "        que.append(q)\n",
    "    return que"
   ]
  },
  {
   "cell_type": "code",
   "execution_count": null,
   "id": "9ba11c23",
   "metadata": {},
   "outputs": [],
   "source": [
    "return_questions_ie(para, _,_,_)"
   ]
  },
  {
   "cell_type": "code",
   "execution_count": null,
   "id": "61aee5c9",
   "metadata": {},
   "outputs": [],
   "source": [
    "para"
   ]
  },
  {
   "cell_type": "code",
   "execution_count": null,
   "id": "81aa9db2",
   "metadata": {},
   "outputs": [],
   "source": []
  },
  {
   "cell_type": "code",
   "execution_count": null,
   "id": "f5d0f449",
   "metadata": {},
   "outputs": [],
   "source": []
  },
  {
   "cell_type": "code",
   "execution_count": null,
   "id": "79d2e4fa",
   "metadata": {},
   "outputs": [],
   "source": []
  }
 ],
 "metadata": {
  "kernelspec": {
   "display_name": "Python 3",
   "language": "python",
   "name": "python3"
  },
  "language_info": {
   "codemirror_mode": {
    "name": "ipython",
    "version": 3
   },
   "file_extension": ".py",
   "mimetype": "text/x-python",
   "name": "python",
   "nbconvert_exporter": "python",
   "pygments_lexer": "ipython3",
   "version": "3.7.10"
  }
 },
 "nbformat": 4,
 "nbformat_minor": 5
}
