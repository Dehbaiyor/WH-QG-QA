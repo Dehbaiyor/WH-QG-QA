{
 "cells": [
  {
   "cell_type": "code",
   "execution_count": null,
   "id": "e8627d3e",
   "metadata": {
    "scrolled": false
   },
   "outputs": [],
   "source": [
    "%%time\n",
    "import argparse\n",
    "import sys\n",
    "from qg.whqg.whqg_main import *\n",
    "from qa.wh_qa.wh_qa import *\n",
    "\n",
    "def read_file(file):\n",
    "    \"\"\"\n",
    "    Read text from file\n",
    "    :param file: input file path\n",
    "    :return: text - text content in input file\n",
    "    \"\"\"\n",
    "    with open(file, encoding = 'utf-8', mode = 'r') as f:\n",
    "        text = f.readlines()\n",
    "    return text\n",
    "\n",
    "def get_wh_ans(ARTICLE_FILE, QUESTION_FILE):\n",
    "    answers = []\n",
    "    passage_embedding, passages, sentences = get_embs(ARTICLE_FILE)\n",
    "    questions = read_file(QUESTION_FILE)\n",
    "    \n",
    "    for question in questions:\n",
    "        ans = get_wh_answer(sentences, question, passage_embedding, passages, 1)\n",
    "        answers.append(ans[0])\n",
    "    return answers\n",
    "\n",
    "def get_wh_qsts(ARTICLE_FILE, NQUESTIONS):\n",
    "    questions = get_wh_questions(ARTICLE_FILE, NQUESTIONS)\n",
    "    return questions\n",
    "\n",
    "print(\"***************************************************************************\")\n",
    "questions = get_wh_questions(\"art.txt\", 50)\n",
    "for question in questions:\n",
    "    print(question)\n",
    "print(\"***************************************************************************\")\n",
    "answers = get_wh_ans(\"art.txt\", \"art_questions.txt\")\n",
    "for answer in answers:\n",
    "    print(answer)\n",
    "print(\"***************************************************************************\")"
   ]
  },
  {
   "cell_type": "code",
   "execution_count": null,
   "id": "2e77a232",
   "metadata": {},
   "outputs": [],
   "source": []
  },
  {
   "cell_type": "code",
   "execution_count": null,
   "id": "2a6cf1ba",
   "metadata": {},
   "outputs": [],
   "source": []
  },
  {
   "cell_type": "code",
   "execution_count": null,
   "id": "3368aaf6",
   "metadata": {},
   "outputs": [],
   "source": []
  },
  {
   "cell_type": "code",
   "execution_count": null,
   "id": "45c65409",
   "metadata": {},
   "outputs": [],
   "source": []
  },
  {
   "cell_type": "code",
   "execution_count": null,
   "id": "6046a59d",
   "metadata": {},
   "outputs": [],
   "source": []
  }
 ],
 "metadata": {
  "kernelspec": {
   "display_name": "Python 3",
   "language": "python",
   "name": "python3"
  },
  "language_info": {
   "codemirror_mode": {
    "name": "ipython",
    "version": 3
   },
   "file_extension": ".py",
   "mimetype": "text/x-python",
   "name": "python",
   "nbconvert_exporter": "python",
   "pygments_lexer": "ipython3",
   "version": "3.7.10"
  }
 },
 "nbformat": 4,
 "nbformat_minor": 5
}
